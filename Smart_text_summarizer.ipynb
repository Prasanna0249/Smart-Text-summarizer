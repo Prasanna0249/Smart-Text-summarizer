{
 "cells": [
  {
   "cell_type": "code",
   "execution_count": null,
   "metadata": {
    "colab": {
     "base_uri": "https://localhost:8080/"
    },
    "executionInfo": {
     "elapsed": 17409,
     "status": "ok",
     "timestamp": 1749828844015,
     "user": {
      "displayName": "Prasanna Lakshmi Jinka",
      "userId": "10477081543707871366"
     },
     "user_tz": -330
    },
    "id": "Z_9bZhqo69fp",
    "outputId": "5adf4d7a-88a6-4f1c-e463-e7879083a00a"
   },
   "outputs": [
    {
     "name": "stdout",
     "output_type": "stream",
     "text": [
      "  Preparing metadata (setup.py) ... \u001b[?25l\u001b[?25hdone\n",
      "  Preparing metadata (setup.py) ... \u001b[?25l\u001b[?25hdone\n",
      "  Preparing metadata (setup.py) ... \u001b[?25l\u001b[?25hdone\n",
      "  Preparing metadata (setup.py) ... \u001b[?25l\u001b[?25hdone\n",
      "\u001b[2K   \u001b[90m━━━━━━━━━━━━━━━━━━━━━━━━━━━━━━━━━━━━━━━━\u001b[0m \u001b[32m211.1/211.1 kB\u001b[0m \u001b[31m5.5 MB/s\u001b[0m eta \u001b[36m0:00:00\u001b[0m\n",
      "\u001b[2K   \u001b[90m━━━━━━━━━━━━━━━━━━━━━━━━━━━━━━━━━━━━━━━━\u001b[0m \u001b[32m81.3/81.3 kB\u001b[0m \u001b[31m6.1 MB/s\u001b[0m eta \u001b[36m0:00:00\u001b[0m\n",
      "\u001b[2K   \u001b[90m━━━━━━━━━━━━━━━━━━━━━━━━━━━━━━━━━━━━━━━━\u001b[0m \u001b[32m107.4/107.4 kB\u001b[0m \u001b[31m7.5 MB/s\u001b[0m eta \u001b[36m0:00:00\u001b[0m\n",
      "\u001b[2K   \u001b[90m━━━━━━━━━━━━━━━━━━━━━━━━━━━━━━━━━━━━━━━━\u001b[0m \u001b[32m1.6/1.6 MB\u001b[0m \u001b[31m35.1 MB/s\u001b[0m eta \u001b[36m0:00:00\u001b[0m\n",
      "\u001b[?25h  Building wheel for tinysegmenter (setup.py) ... \u001b[?25l\u001b[?25hdone\n",
      "  Building wheel for feedfinder2 (setup.py) ... \u001b[?25l\u001b[?25hdone\n",
      "  Building wheel for jieba3k (setup.py) ... \u001b[?25l\u001b[?25hdone\n",
      "  Building wheel for sgmllib3k (setup.py) ... \u001b[?25l\u001b[?25hdone\n"
     ]
    }
   ],
   "source": [
    "# Step 1: Installing required libraries\n",
    "!pip install transformers newspaper3k ipywidgets lxml_html_clean --quiet"
   ]
  },
  {
   "cell_type": "code",
   "execution_count": null,
   "metadata": {
    "id": "crot5EGt7WdT"
   },
   "outputs": [],
   "source": [
    "# Step 1: Installing required libraries\n",
    "!pip install transformers newspaper3k ipywidgets lxml_html_clean --quiet\n",
    "# Step 2: Import necessary packages\n",
    "from transformers import pipeline\n",
    "from newspaper import Article\n",
    "import ipywidgets as widgets\n",
    "from IPython.display import display, HTML"
   ]
  },
  {
   "cell_type": "code",
   "execution_count": null,
   "metadata": {
    "colab": {
     "base_uri": "https://localhost:8080/",
     "height": 351,
     "referenced_widgets": [
      "0321591c4f254c95ae26a996b664aef8",
      "5e6c36a9b6134b6c93529f8e85d652d4",
      "e67c59f361d64b0c9468259b512f590e",
      "fe5533cf27564d64a574e834f193928d",
      "07caa76bbfd64ace9ec1837bf89935de",
      "9dab5eca033c4e9fb4d28d9b79bfc4bc",
      "3f1d4bf0c1c04a6dadc6a5f490908f9c",
      "7aebc3421e9c4cfaa42fb012ae9994bc",
      "e16c90dc674546a6b0c5ba763aa93020",
      "5fb4155da9c04252ac19d467c2d9abdf",
      "8a01c7472df349e7bf10ff10bba36cbe",
      "6ff560fc7b66403b9b84c021513a40dd",
      "dd1b04c64f114f4da18e5f4adcf46cfe",
      "c17764e2da1b4d0aaad19f9c5756a5d9",
      "3f17658da4f74cc9b00a7a142499542f",
      "b51c154b0f814ebab6a0be879c40dff0",
      "8a84891a66454de0857d2ce71e01d7c2",
      "11e357072bea4c49801c42945ae0b08c",
      "f4b778347b4d44ff81d05c395fb59346",
      "fa35b803985f4c8088cea8eab933b8b3",
      "6c38734f21b540f9ad7a5ebe5dd58442",
      "2d0c0d52327f474cabab19c9d2963f47",
      "6e0af165e1da47908c132128605625f7",
      "28dbec43d7e44c7fa614a28c48b09fdc",
      "fbcf74b21627414790291f8ec6d598af",
      "367e8e00ed9d4aa9bd5cc356f151c0c9",
      "b0e34dde26de47668d6ce7b19c95ad58",
      "c2bf1c19a9504e94a3ea7cedc5c75a6f",
      "9a502f4ed6114324b1e58fa62c26aed0",
      "06679edea7764bd0a5a599378b46318f",
      "644cb087dfc14eb98e4432339606e606",
      "028c470d4c944809b4f1e81186cacb2e",
      "2d85855a2d044bdb98140aa6a96f6a13",
      "1aef09126c4a408d93c70be9ed12f0b4",
      "566d6f82bfac42e5a790d74e053077e0",
      "a5b4de8795fb43db9e02e7fc39ec703e",
      "c24dc084ec4944ab99e1258c0b5e4d1f",
      "d50a90d1da7b48b39f06a03bb971db5d",
      "05ffed6190d740e79b4b68af7948bb53",
      "bc7abe9d0eee4477b0506c9097a8fb0c",
      "185d079b6d3c4111a7d75358d21f373e",
      "17f04f0d0c5f4c83a2d6683b5c0de89a",
      "d68d57316506447f97bf93b6579a7507",
      "ecbb020514a0496d974d0635010aae57",
      "d0fefe7c47604c97b38ccf715cb16d10",
      "4332264b880043c5a4890feaa332008f",
      "45ac738e3ca04d389ec46a0adf970a5f",
      "db896f73b9a643c0bac9ec8cf48e3a34",
      "6e47bbe932ec4f50a0323cbe0f554585",
      "ecf52aa0673f42b8ac426d04caa34329",
      "7ae4872ee8d04ec7bec8298c5e744d82",
      "aeb70000f5c24ba3be5ddf518506872a",
      "3d4afe93ad1a4b3599168c4d2b3a4ff4",
      "98722c83b6fa488897fe9f3943d91da3",
      "01df2fb32db24790a172c983fefc3aab",
      "e12339ebcdd84ddc973c5e9ac35cac07",
      "39ac445ea3464808a32195280f426c9a",
      "1bbe8f4bd8bc4123aeaae1cf8b063545",
      "f4d33ac4672c47d8a844684dbe99642a",
      "17ba3610e36a4a7f81db32d23297c34f",
      "cafaee671b0742c5b05017cb260cfe34",
      "cc5df580edd44b6996c3d4e289205031",
      "eace766e4ffe4a329f66df5d43a11951",
      "13c0d07fb1734441b6c93fd8f9e89e3f",
      "8171acac5f5b48d6b8426a06eb9c1074",
      "414853c105be40dda64b673c608c086a"
     ]
    },
    "executionInfo": {
     "elapsed": 45712,
     "status": "ok",
     "timestamp": 1749829025780,
     "user": {
      "displayName": "Prasanna Lakshmi Jinka",
      "userId": "10477081543707871366"
     },
     "user_tz": -330
    },
    "id": "G_WLjTHh7uQ0",
    "outputId": "8d8fe8d4-6134-48de-885e-deb695049e5d"
   },
   "outputs": [
    {
     "name": "stderr",
     "output_type": "stream",
     "text": [
      "/usr/local/lib/python3.11/dist-packages/huggingface_hub/utils/_auth.py:94: UserWarning: \n",
      "The secret `HF_TOKEN` does not exist in your Colab secrets.\n",
      "To authenticate with the Hugging Face Hub, create a token in your settings tab (https://huggingface.co/settings/tokens), set it as secret in your Google Colab and restart your session.\n",
      "You will be able to reuse this secret in all of your notebooks.\n",
      "Please note that authentication is recommended but still optional to access public models or datasets.\n",
      "  warnings.warn(\n"
     ]
    },
    {
     "data": {
      "application/vnd.jupyter.widget-view+json": {
       "model_id": "0321591c4f254c95ae26a996b664aef8",
       "version_major": 2,
       "version_minor": 0
      },
      "text/plain": [
       "config.json:   0%|          | 0.00/1.58k [00:00<?, ?B/s]"
      ]
     },
     "metadata": {},
     "output_type": "display_data"
    },
    {
     "data": {
      "application/vnd.jupyter.widget-view+json": {
       "model_id": "6ff560fc7b66403b9b84c021513a40dd",
       "version_major": 2,
       "version_minor": 0
      },
      "text/plain": [
       "model.safetensors:   0%|          | 0.00/1.63G [00:00<?, ?B/s]"
      ]
     },
     "metadata": {},
     "output_type": "display_data"
    },
    {
     "data": {
      "application/vnd.jupyter.widget-view+json": {
       "model_id": "6e0af165e1da47908c132128605625f7",
       "version_major": 2,
       "version_minor": 0
      },
      "text/plain": [
       "generation_config.json:   0%|          | 0.00/363 [00:00<?, ?B/s]"
      ]
     },
     "metadata": {},
     "output_type": "display_data"
    },
    {
     "data": {
      "application/vnd.jupyter.widget-view+json": {
       "model_id": "1aef09126c4a408d93c70be9ed12f0b4",
       "version_major": 2,
       "version_minor": 0
      },
      "text/plain": [
       "vocab.json:   0%|          | 0.00/899k [00:00<?, ?B/s]"
      ]
     },
     "metadata": {},
     "output_type": "display_data"
    },
    {
     "data": {
      "application/vnd.jupyter.widget-view+json": {
       "model_id": "d0fefe7c47604c97b38ccf715cb16d10",
       "version_major": 2,
       "version_minor": 0
      },
      "text/plain": [
       "merges.txt:   0%|          | 0.00/456k [00:00<?, ?B/s]"
      ]
     },
     "metadata": {},
     "output_type": "display_data"
    },
    {
     "data": {
      "application/vnd.jupyter.widget-view+json": {
       "model_id": "e12339ebcdd84ddc973c5e9ac35cac07",
       "version_major": 2,
       "version_minor": 0
      },
      "text/plain": [
       "tokenizer.json:   0%|          | 0.00/1.36M [00:00<?, ?B/s]"
      ]
     },
     "metadata": {},
     "output_type": "display_data"
    },
    {
     "name": "stderr",
     "output_type": "stream",
     "text": [
      "Device set to use cpu\n"
     ]
    }
   ],
   "source": [
    "# Step 3: Load the pre-trained summarization model\n",
    "summarizer = pipeline(\"summarization\", model=\"facebook/bart-large-cnn\")\n"
   ]
  },
  {
   "cell_type": "code",
   "execution_count": null,
   "metadata": {
    "id": "X_aOiAl870wR"
   },
   "outputs": [],
   "source": [
    "# Step 4: Helper functions\n",
    "\n",
    "# Function to summarize text using HuggingFace's BART model\n",
    "def summarize_text(text, max_len=130):\n",
    "    result = summarizer(text, max_length=max_len, min_length=30, do_sample=False)\n",
    "    return result[0]['summary_text']\n",
    "\n",
    "# Function to extract content from a news/article URL\n",
    "def extract_from_url(url):\n",
    "    try:\n",
    "        article = Article(url)\n",
    "        article.download()\n",
    "        article.parse()\n",
    "        return article.text\n",
    "    except:\n",
    "        return \"Error fetching article content. Please check the URL.\"\n",
    "\n",
    "# Function to handle uploaded .txt files\n",
    "def read_uploaded_file(file_obj):\n",
    "    content = file_obj[list(file_obj.keys())[0]]['content']\n",
    "    return content.decode('utf-8')\n"
   ]
  },
  {
   "cell_type": "code",
   "execution_count": null,
   "metadata": {
    "id": "tJcX1jh58CJR"
   },
   "outputs": [],
   "source": [
    "# Step 5: Create interactive widgets\n",
    "\n",
    "# Text area for manual input\n",
    "text_input = widgets.Textarea(\n",
    "    placeholder='Paste or type your text here...',\n",
    "    description='Text:',\n",
    "    layout=widgets.Layout(width='100%', height='150px')\n",
    ")\n",
    "\n",
    "# File uploader for .txt files\n",
    "file_upload = widgets.FileUpload(\n",
    "    accept='.txt',\n",
    "    multiple=False,\n",
    "    description='Upload .txt File'\n",
    ")\n",
    "\n",
    "# URL input for summarizing online articles\n",
    "url_box = widgets.Text(\n",
    "    placeholder='Paste article URL here...',\n",
    "    description='URL:',\n",
    "    layout=widgets.Layout(width='100%')\n",
    ")\n",
    "\n",
    "# Dropdown for choosing summary length\n",
    "length_choice = widgets.Dropdown(\n",
    "    options=[('Short', 60), ('Medium', 130), ('Long', 200)],\n",
    "    value=130,\n",
    "    description='Summary Length'\n",
    ")\n",
    "\n",
    "# Button to start summarization\n",
    "summarize_button = widgets.Button(\n",
    "    description='Generate Summary',\n",
    "    button_style='success',\n",
    "    tooltip='Click to generate summary'\n",
    ")\n",
    "\n",
    "# Output area for displaying results\n",
    "output_box = widgets.Output()\n"
   ]
  },
  {
   "cell_type": "code",
   "execution_count": null,
   "metadata": {
    "id": "KI_sfgZ38HL0"
   },
   "outputs": [],
   "source": [
    "# Step 6: Define what happens when the button is clicked\n",
    "\n",
    "def on_click_generate_summary(btn):\n",
    "    with output_box:\n",
    "        output_box.clear_output()\n",
    "\n",
    "        # Priority: URL > File > Text\n",
    "        text = \"\"\n",
    "\n",
    "        if url_box.value.strip():\n",
    "            text = extract_from_url(url_box.value)\n",
    "            if text.startswith(\"Error\"):\n",
    "                print(text)\n",
    "                return\n",
    "            print(\"Article extracted from URL.\\n\")\n",
    "\n",
    "        elif file_upload.value:\n",
    "            text = read_uploaded_file(file_upload.value)\n",
    "            print(\"Text loaded from uploaded file.\\n\")\n",
    "\n",
    "        elif text_input.value.strip():\n",
    "            text = text_input.value\n",
    "            print(\"Text received from input box.\\n\")\n",
    "\n",
    "        else:\n",
    "            print(\"Please provide input using text, file, or URL.\")\n",
    "            return\n",
    "\n",
    "        # Generate summary\n",
    "        summary = summarize_text(text, max_len=length_choice.value)\n",
    "\n",
    "        # Word stats\n",
    "        input_len = len(text.split())\n",
    "        summary_len = len(summary.split())\n",
    "        compression = round(summary_len / input_len, 2)\n",
    "\n",
    "        # Display results\n",
    "        display(HTML(f\"\"\"\n",
    "        <h4>📝 Summary:</h4>\n",
    "        <div style=\"background:#f9f9f9;padding:10px;border-left:5px solid #007BFF;\">\n",
    "        {summary}\n",
    "        </div><br>\n",
    "        <b>Original Text Length:</b> {input_len} words<br>\n",
    "        <b>Summary Length:</b> {summary_len} words<br>\n",
    "        <b>Compression Ratio:</b> {compression} (lower is better)\n",
    "        \"\"\"))\n",
    "\n",
    "# Bind the button to the click function\n",
    "summarize_button.on_click(on_click_generate_summary)\n"
   ]
  },
  {
   "cell_type": "code",
   "execution_count": null,
   "metadata": {
    "colab": {
     "base_uri": "https://localhost:8080/",
     "height": 513,
     "referenced_widgets": [
      "47b61e4cef7d45209caa7bbafb776b5a",
      "f93340a9ca394b9ab990f43258aa03b0",
      "b99494d2120d4b2db3317fff6abcd721",
      "26607660789f435ba26ccccc8070e947",
      "019a82f792c1486f8717b7058cb3bde6",
      "854cabf3b7e34af982bad796bfe4e1b7",
      "c6faa4b7aa8a4705b29603115dc9bf12",
      "ce644958c3c54c31b0cc204bef1c5425",
      "4f191304dcd84045b31c18f28ebc2275",
      "9fd211ede1b04a719af5c9b86584e5f4",
      "16adb3226c054ab89ae959eb46f2d1ae",
      "ad0aae731db8474595f61fecef72d749",
      "0607c5bddb9e42eca32d6619497ab80f",
      "e1a3cbf793ac48d1979b59d68f2c39c6",
      "2007083bb7a84cd49d971e3e7d5dc4b2",
      "2d99619240384a4f976261f430a08a37",
      "7837962366494dc387a87fa55d6651eb",
      "ecdb2e5d65e2487e8b7655dba14e859d",
      "d79cec39407c4493b18542666b748885"
     ]
    },
    "executionInfo": {
     "elapsed": 76,
     "status": "ok",
     "timestamp": 1749829091897,
     "user": {
      "displayName": "Prasanna Lakshmi Jinka",
      "userId": "10477081543707871366"
     },
     "user_tz": -330
    },
    "id": "w1MdUiZa8Mfw",
    "outputId": "9e322741-5f70-4efa-9f58-2d7e8f1941f4"
   },
   "outputs": [
    {
     "data": {
      "application/vnd.jupyter.widget-view+json": {
       "model_id": "47b61e4cef7d45209caa7bbafb776b5a",
       "version_major": 2,
       "version_minor": 0
      },
      "text/plain": [
       "VBox(children=(Textarea(value='', description='Text:', layout=Layout(height='150px', width='100%'), placeholde…"
      ]
     },
     "metadata": {},
     "output_type": "display_data"
    }
   ],
   "source": [
    "# Step 7: Display the complete interface in Colab\n",
    "\n",
    "display(\n",
    "    widgets.VBox([\n",
    "        text_input,\n",
    "        file_upload,\n",
    "        url_box,\n",
    "        length_choice,\n",
    "        summarize_button,\n",
    "        output_box\n",
    "    ])\n",
    ")\n"
   ]
  }
 ],
 "metadata": {
  "colab": {
   "authorship_tag": "ABX9TyP2JpdSce5ed3XJr9KByzhN",
   "provenance": [
    {
     "file_id": "1wbmqJQ4jEud5Md70reQZKAmZSaCx3-dw",
     "timestamp": 1750081872067
    }
   ]
  },
  "kernelspec": {
   "display_name": "Python 3",
   "name": "python3"
  },
  "language_info": {
   "name": "python"
  }
 },
 "nbformat": 4,
 "nbformat_minor": 0
}
